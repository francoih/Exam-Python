{
 "cells": [
  {
   "cell_type": "code",
   "execution_count": 15,
   "metadata": {},
   "outputs": [],
   "source": [
    "#Ex 1\n",
    "class Romberg:\n",
    "    def __init__(self,f,a,b):\n",
    "        self.f = f\n",
    "        self.a = a\n",
    "        self.b = b\n",
    "        self.p = 0\n",
    "        self.N = 1\n",
    "        self.S = 0.5*(f(a)+f(b))\n",
    "        self.h = (b-a)\n",
    "        self.I = self.S*self.h\n",
    "        self.I_last = self.I\n",
    "        self.n_eval = 0\n",
    "    def iteration(self):\n",
    "        self.n_eval += self.N\n",
    "        x = self.a+self.h*0.5\n",
    "        somme = self.f(x)\n",
    "        for k in range(self.N-1):\n",
    "            x += self.h\n",
    "            somme += f(x)\n",
    "        self.N *= 2\n",
    "        self.p += 1\n",
    "        self.S += somme\n",
    "        self.h *= 0.5\n",
    "        self.I_last = self.I\n",
    "        self.I = self.h*self.S\n",
    "        \n",
    "    def iterations(self,P):\n",
    "        I = [self.I]\n",
    "        h = [self.h]\n",
    "        while self.p<P:\n",
    "            self.iteration()\n",
    "            I.append(self.I)\n",
    "            h.append(self.h)\n",
    "        return (numpy.array(h),numpy.array(I))\n",
    "        \n",
    "    def trapezes(self,epsilon):\n",
    "        I = [self.I]\n",
    "        h = [self.h]\n",
    "        self.iteration()\n",
    "        while abs(self.I-self.I_last)>epsilon:\n",
    "            self.iteration()\n",
    "            I.append(self.I)\n",
    "            h.append(self.h)\n",
    "        return (numpy.array(h),numpy.array(I))\n",
    "        \n",
    "    def romberg(self,epsilon):\n",
    "        jmax = 20\n",
    "        A=numpy.zeros((jmax+1,jmax+1))\n",
    "        A[0][0] = self.I\n",
    "        self.iteration()\n",
    "        A[1][0] = self.I\n",
    "        correction = (A[1][0]-A[0][0])/3\n",
    "        A[1][1] = A[1][0] + correction\n",
    "        j = 2\n",
    "        while abs(correction) > epsilon:\n",
    "            self.iteration()\n",
    "            A[j][0] = self.I\n",
    "            for i in range(1,j+1):\n",
    "                correction = (A[j][i-1]-A[j-1][i-1])/(4**i-1)\n",
    "                A[j][i] = A[j][i-1] + correction\n",
    "            j += 1\n",
    "        return (A[0:j-1,0:j-1],A[j-1][j-1])"
   ]
  },
  {
   "cell_type": "code",
   "execution_count": 16,
   "metadata": {},
   "outputs": [],
   "source": [
    "import numpy\n",
    "def f(x):\n",
    "    return x**5\n",
    "romberg = Romberg(f,0,1)\n",
    "(h,I) = romberg.trapezes(1e-7)"
   ]
  },
  {
   "cell_type": "code",
   "execution_count": 17,
   "metadata": {},
   "outputs": [
    {
     "name": "stdout",
     "output_type": "stream",
     "text": [
      "2.4835268314093994e-08\n"
     ]
    }
   ],
   "source": [
    "print(I[-1]-1.0/6)"
   ]
  },
  {
   "cell_type": "code",
   "execution_count": 18,
   "metadata": {},
   "outputs": [
    {
     "name": "stdout",
     "output_type": "stream",
     "text": [
      "4095\n"
     ]
    }
   ],
   "source": [
    "print(romberg.n_eval)"
   ]
  },
  {
   "cell_type": "code",
   "execution_count": 26,
   "metadata": {},
   "outputs": [
    {
     "ename": "SyntaxError",
     "evalue": "invalid syntax (<ipython-input-26-1eb5c3c616dc>, line 40)",
     "output_type": "error",
     "traceback": [
      "\u001b[1;36m  File \u001b[1;32m\"<ipython-input-26-1eb5c3c616dc>\"\u001b[1;36m, line \u001b[1;32m40\u001b[0m\n\u001b[1;33m    \u001b[0m\n\u001b[1;37m    ^\u001b[0m\n\u001b[1;31mSyntaxError\u001b[0m\u001b[1;31m:\u001b[0m invalid syntax\n"
     ]
    }
   ],
   "source": [
    "#Ex 2\n",
    "\n",
    "import numpy as N\n",
    "\n",
    "import matplotlib.pyplot as P\n",
    "\n",
    "\n",
    "\n",
    "import pytest                    # pytest importe pour les tests unitaires\n",
    "\n",
    "\n",
    "\n",
    "\n",
    "\n",
    "class Simulation:\n",
    "\n",
    "\n",
    "\n",
    "    def __init__(self, temp, dens, path):\n",
    "\n",
    "        self.temp = float(temp)\n",
    "\n",
    "        self.dens = float(dens)\n",
    "\n",
    "        tmp = N.loadtxt(path, skiprows=1).T\n",
    "\n",
    "        self.pot = tmp[0]\n",
    "\n",
    "        self.kin = tmp[1]\n",
    "\n",
    "        self.tot = self.pot + self.kin\n",
    "\n",
    "        self.press = tmp[2]\n",
    "\n",
    "\n",
    "\n",
    "    def __str__(self):\n",
    "\n",
    "        return \"Simulation at {:.0f} g/cc and {:.0f} K ; {:d} timesteps\". \\\n",
    "\n",
    "            format(self.dens, self.temp, len(self.pot))\n",
    "\n",
    "\n",
    "\n",
    "    def thermo(self, skipSteps=0):\n",
    "\n",
    "        return {'T': self.temp,\n",
    "\n",
    "                'rho': self.dens,\n",
    "\n",
    "                'E': self.tot[skipSteps:].mean(),\n",
    "\n",
    "                'P': self.press[skipSteps:].mean(),\n",
    "\n",
    "                'dE': self.tot[skipSteps:].std(),\n",
    "\n",
    "                'dP': self.press[skipSteps:].std()}\n",
    "\n",
    "\n",
    "\n",
    "    def plot(self, skipSteps=0):\n",
    "\n",
    "        fig, (axen, axpress) = P.subplots(2, sharex=True)\n",
    "\n",
    "        axen.plot(list(range(skipSteps, len(self.tot))), self.tot[skipSteps:],\n",
    "\n",
    "                  'rd--')\n",
    "\n",
    "        axen.set_title(\"Internal energy (Ha)\")\n",
    "\n",
    "        axpress.plot(list(range(skipSteps, len(self.press))), self.press[skipSteps:],\n",
    "\n",
    "                     'rd--')\n",
    "\n",
    "        axpress.set_title(\"Pressure (GPa)\")\n",
    "\n",
    "        axpress.set_xlabel(\"Timesteps\")\n",
    "\n",
    "\n",
    "\n",
    "        P.show()\n",
    "\n",
    "\n",
    "\n",
    "##### Tests pour Simulation #####\n",
    "\n",
    "\n",
    "\n",
    "\n",
    "\n",
    "def mimic_simulation(filename):\n",
    "\n",
    "    with open(filename, 'w') as f:\n",
    "\n",
    "        f.write(\"\"\"Potential energy (Ha)\tKinetic Energy (Ha)\tPressure (GPa)\n",
    "\n",
    "-668.2463567264        \t0.7755612311   \t\t9287.7370229824\n",
    "\n",
    "-668.2118514558        \t0.7755612311\t\t9286.1395903265\n",
    "\n",
    "-668.3119088218        \t0.7755612311\t\t9247.6604398856\n",
    "\n",
    "-668.4762735176        \t0.7755612311\t\t9191.8574820856\n",
    "\n",
    "-668.4762735176        \t0.7755612311\t\t9191.8574820856\n",
    "\n",
    "\"\"\")\n",
    "\n",
    "\n",
    "\n",
    "\n",
    "\n",
    "def test_Simulation_init():\n",
    "\n",
    "    mimic_simulation(\"equationEtat_simuTest.out\")\n",
    "\n",
    "    s = Simulation(10, 10, \"equationEtat_simuTest.out\")\n",
    "\n",
    "    assert len(s.kin) == 5\n",
    "\n",
    "    assert abs(s.kin[2] - 0.7755612311) < tolerance\n",
    "\n",
    "    assert abs(s.pot[1] + 668.2118514558) < tolerance\n",
    "\n",
    "\n",
    "\n",
    "\n",
    "\n",
    "def test_Simulation_str():\n",
    "\n",
    "    mimic_simulation(\"equationEtat_simuTest.out\")\n",
    "\n",
    "    s = Simulation(10, 20, \"equationEtat_simuTest.out\")\n",
    "\n",
    "    assert str(s) == \"Simulation at 20 g/cc and 10 K ; 5 timesteps\"\n",
    "\n",
    "\n",
    "\n",
    "\n",
    "\n",
    "def test_Simulation_thermo():\n",
    "\n",
    "    mimic_simulation(\"equationEtat_simuTest.out\")\n",
    "\n",
    "    s = Simulation(10, 20, \"equationEtat_simuTest.out\")\n",
    "\n",
    "    assert abs(s.thermo()['T'] - 10) < tolerance\n",
    "\n",
    "    assert abs(s.thermo()['rho'] - 20) < tolerance\n",
    "\n",
    "    assert abs(s.thermo()['E'] + 667.56897157674) < tolerance\n",
    "\n",
    "    assert abs(s.thermo()['P'] - 9241.0504034731) < tolerance\n",
    "\n",
    "    assert abs(s.thermo(3)['E'] + 667.7007122865) < tolerance\n",
    "\n",
    "    assert abs(s.thermo(3)['P'] - 9191.8574820856) < tolerance\n",
    "\n",
    "\n",
    "\n",
    "###################\n",
    "\n",
    "### Main script ###\n",
    "\n",
    "###################\n",
    "\n",
    "\n",
    "\n",
    "if __name__ == '__main__':\n",
    "\n",
    "    ### Definitions ###\n",
    "\n",
    "    a0 = 0.52918      # Bohr radius in angstrom\n",
    "\n",
    "    amu = 1.6605      # atomic mass unit in e-24 g\n",
    "\n",
    "    k_B = 3.16681e-6  # Boltzmann's constant in Ha/K\n",
    "\n",
    "    # normalization factor for P/nkT\n",
    "\n",
    "    nk_GPa = a0 ** 3 * k_B * 2.942e4 / 6 / amu\n",
    "\n",
    "    nsteps = 200  # define skipped timesteps (should be done for\n",
    "\n",
    "    # each simulation...)\n",
    "\n",
    "    temps = [6000, 20000, 50000]    # define temperatures\n",
    "\n",
    "    colors = {6000: 'r', 20000: 'b', 50000: 'k'}\n",
    "\n",
    "    denss = [7, 15, 25, 30]  # define densities\n",
    "\n",
    "    keys = ['T', 'rho', 'E', 'dE', 'P', 'dP']\n",
    "\n",
    "    eos = dict.fromkeys(keys, N.zeros(0))   # {key:[]}\n",
    "\n",
    "\n",
    "\n",
    "    ### Extract the EOS out of the source files ###\n",
    "\n",
    "    for t, rho in [(t, rho) for t in temps for rho in denss]:\n",
    "\n",
    "        filenm = \"outputs/{}K_{:0>2d}gcc.out\".format(t, rho)\n",
    "\n",
    "        s = Simulation(t, rho, filenm)\n",
    "\n",
    "        for key in keys:\n",
    "\n",
    "            eos[key] = N.append(eos[key], s.thermo(nsteps)[key])\n",
    "\n",
    "\n",
    "\n",
    "    ### Plot isotherms ###\n",
    "\n",
    "    fig, (axen, axpress) = P.subplots(2, sharex=True)\n",
    "\n",
    "    fig.suptitle(\"High-pressure equation of state for water\", size='x-large')\n",
    "\n",
    "    axen.set_title(\"Energy\")\n",
    "\n",
    "    axen.set_ylabel(\"U / NkT\")\n",
    "\n",
    "    axpress.set_title(\"Pressure\")\n",
    "\n",
    "    axpress.set_ylabel(\"P / nkT\")\n",
    "\n",
    "    axpress.set_xlabel(\"rho (g/cc)\")\n",
    "\n",
    "    for t in temps:\n",
    "\n",
    "        sel = eos['T'] == t\n",
    "\n",
    "        axen.errorbar(x=eos['rho'][sel], y=eos['E'][sel] / k_B / t,\n",
    "\n",
    "                      yerr=eos['dE'][sel] / k_B / t, fmt=colors[t] + '-')\n",
    "\n",
    "        axpress.errorbar(x=eos['rho'][sel],\n",
    "\n",
    "                         y=eos['P'][sel] / eos['rho'][sel] / nk_GPa / t,\n",
    "\n",
    "                         yerr=eos['dP'][sel] / eos['rho'][sel] / nk_GPa / t,\n",
    "\n",
    "                         fmt=colors[t] + '-',\n",
    "\n",
    "                         label=\"{} K\".format(t))\n",
    "\n",
    "    axpress.legend(loc='best')\n",
    "\n",
    "    P.show()\n",
    "\n"
   ]
  },
  {
   "cell_type": "code",
   "execution_count": 19,
   "metadata": {},
   "outputs": [
    {
     "data": {
      "text/plain": [
       "[<matplotlib.lines.Line2D at 0x22e0d93fd48>]"
      ]
     },
     "execution_count": 19,
     "metadata": {},
     "output_type": "execute_result"
    },
    {
     "data": {
      "image/png": "[encoded data removed]",
      "text/plain": [
       "<Figure size 432x288 with 1 Axes>"
      ]
     },
     "metadata": {
      "needs_background": "light"
     },
     "output_type": "display_data"
    }
   ],
   "source": [
    "#Ex 3\n",
    "import random\n",
    "n = 30\n",
    "x = [ random.random() for _ in range(n) ]\n",
    "y = [ random.random() for _ in range(n) ]\n",
    "import matplotlib.pyplot as plt\n",
    "plt.plot(x,y,\"o\")"
   ]
  },
  {
   "cell_type": "code",
   "execution_count": 20,
   "metadata": {},
   "outputs": [
    {
     "data": {
      "text/plain": [
       "[<matplotlib.lines.Line2D at 0x22e0e1742c8>]"
      ]
     },
     "execution_count": 20,
     "metadata": {},
     "output_type": "execute_result"
    },
    {
     "data": {
      "image/png": "[encoded data removed]",
      "text/plain": [
       "<Figure size 432x288 with 1 Axes>"
      ]
     },
     "metadata": {
      "needs_background": "light"
     },
     "output_type": "display_data"
    }
   ],
   "source": [
    "plt.plot(x + [ x[0] ], y + [ y[0] ], \"o-\")"
   ]
  },
  {
   "cell_type": "code",
   "execution_count": 21,
   "metadata": {},
   "outputs": [
    {
     "name": "stdout",
     "output_type": "stream",
     "text": [
      "longueur initiale 7.469874018031982\n",
      "iteration 2 d= 7.469874018031982\n",
      "iteration 3 d= 1.1643863406845703\n",
      "iteration 4 d= 0.9570928149234498\n",
      "longueur min 0.9570928149234498\n"
     ]
    },
    {
     "data": {
      "text/plain": [
       "[<matplotlib.lines.Line2D at 0x22e0e1e6948>]"
      ]
     },
     "execution_count": 21,
     "metadata": {},
     "output_type": "execute_result"
    },
    {
     "data": {
      "image/png": "[encoded data removed]",
      "text/plain": [
       "<Figure size 432x288 with 1 Axes>"
      ]
     },
     "metadata": {
      "needs_background": "light"
     },
     "output_type": "display_data"
    }
   ],
   "source": [
    "def longueur (x,y, ordre):\n",
    "    i = ordre[-1]\n",
    "    x0,y0 = x[i], y[i]\n",
    "    d = 0\n",
    "    for o in ordre:\n",
    "        x1,y1 = x[o], y[o]\n",
    "        d += (x0-x1)**2 + (y0-y1)**2\n",
    "        x0,y0 = x1,y1\n",
    "    return d\n",
    "\n",
    "ordre = list(range(len(x)))\n",
    "print(\"longueur initiale\", longueur(x,y,ordre))\n",
    "\n",
    "def permutation(x,y,ordre):\n",
    "    d  = longueur(x,y,ordre)\n",
    "    d0 = d+1\n",
    "    it = 1\n",
    "    while d < d0 :\n",
    "        it += 1\n",
    "        print(\"iteration\",it, \"d=\",d)\n",
    "        d0 = d\n",
    "        for i in range(0,len(ordre)-1) :\n",
    "            for j in range(i+2,len(ordre)):\n",
    "                r = ordre[i:j].copy()\n",
    "                r.reverse()\n",
    "                ordre2 = ordre[:i] + r + ordre[j:]\n",
    "                t = longueur(x,y,ordre2)\n",
    "                if t < d :\n",
    "                    d = t\n",
    "                    ordre = ordre2\n",
    "    return ordre\n",
    "\n",
    "ordre = permutation (x,y,list(range(len(x))))\n",
    "print(\"longueur min\", longueur(x,y,ordre))\n",
    "xo = [ x[o] for o in ordre + [ordre[0]]]\n",
    "yo = [ y[o] for o in ordre + [ordre[0]]]\n",
    "plt.plot(xo,yo, \"o-\")"
   ]
  },
  {
   "cell_type": "code",
   "execution_count": 24,
   "metadata": {},
   "outputs": [
    {
     "name": "stdout",
     "output_type": "stream",
     "text": [
      "longueur initiale 7.314404551022376\n",
      "iteration 2 d= 7.314404551022376\n",
      "iteration 3 d= 1.0996002824695161\n",
      "iteration 4 d= 0.9117777320406354\n",
      "iteration 5 d= 0.9108713053485415\n",
      "longueur min 0.9108713053485415\n"
     ]
    },
    {
     "data": {
      "text/plain": [
       "[<matplotlib.lines.Line2D at 0x22e0e268308>]"
      ]
     },
     "execution_count": 24,
     "metadata": {},
     "output_type": "execute_result"
    },
    {
     "data": {
      "image/png": "[encoded data removed]",
      "text/plain": [
       "<Figure size 432x288 with 1 Axes>"
      ]
     },
     "metadata": {
      "needs_background": "light"
     },
     "output_type": "display_data"
    }
   ],
   "source": [
    "#Supposons une erreur de calcul à savoir nous oublions le dernier arc qui boucle le chemin du dernier noeud au premier\n",
    "def longueur (x,y, ordre):\n",
    "    # on change cette fonction\n",
    "    d = 0\n",
    "    for i in range(1,len(ordre)):\n",
    "        n = ordre[i-1]\n",
    "        o = ordre[i]\n",
    "        x0,y0 = x[n], y[n]\n",
    "        x1,y1 = x[o], y[o]\n",
    "        d += (x0-x1)**2 + (y0-y1)**2\n",
    "    return d\n",
    "\n",
    "ordre = list(range(len(x)))\n",
    "print(\"longueur initiale\", longueur(x,y,ordre))\n",
    "\n",
    "ordre = permutation (x,y,list(range(len(x))))\n",
    "print(\"longueur min\", longueur(x,y,ordre))\n",
    "xo = [ x[o] for o in ordre]\n",
    "yo = [ y[o] for o in ordre]\n",
    "plt.plot(xo,yo, \"o-\")\n",
    "#C'est toujours bien le chemin le plus court"
   ]
  },
  {
   "cell_type": "code",
   "execution_count": 25,
   "metadata": {},
   "outputs": [
    {
     "name": "stdout",
     "output_type": "stream",
     "text": [
      "longueur initiale 7.314404551022376\n",
      "iteration 0 d= 7.314404551022376\n",
      "iteration 1 d= 0.8994797390988534\n",
      "iteration 2 d= 0.8564190596458632\n",
      "iteration 3 d= 0.8564190596458632\n",
      "iteration 4 d= 0.8564190596458632\n",
      "iteration 5 d= 0.8564190596458632\n",
      "iteration 6 d= 0.8564190596458632\n",
      "iteration 7 d= 0.8217631939741296\n",
      "iteration 8 d= 0.8134879763825056\n",
      "iteration 9 d= 0.8134879763825056\n",
      "iteration 10 d= 0.8134879763825056\n",
      "iteration 11 d= 0.8134879763825056\n",
      "iteration 12 d= 0.8134879763825056\n",
      "iteration 13 d= 0.8134879763825056\n",
      "iteration 14 d= 0.8134879763825056\n",
      "iteration 15 d= 0.8134879763825056\n",
      "iteration 16 d= 0.8134879763825056\n",
      "iteration 17 d= 0.8122819231357673\n",
      "iteration 18 d= 0.8122819231357673\n",
      "iteration 19 d= 0.8122819231357673\n",
      "longueur min 0.8122819231357673\n"
     ]
    },
    {
     "data": {
      "text/plain": [
       "Text(0.9830671028256462, 0.5221003640655848, 'N-1')"
      ]
     },
     "execution_count": 25,
     "metadata": {},
     "output_type": "execute_result"
    },
    {
     "data": {
      "image/png": "[encoded data removed]",
      "text/plain": [
       "<Figure size 432x288 with 1 Axes>"
      ]
     },
     "metadata": {
      "needs_background": "light"
     },
     "output_type": "display_data"
    }
   ],
   "source": [
    "#Programme final ajustant la précision et les chemins tout en évitant les croisements\n",
    "ordre = list(range(len(x)))\n",
    "print(\"longueur initiale\", longueur(x,y,ordre))\n",
    "\n",
    "def permutation_rnd(x,y,ordre,miniter):\n",
    "    d  = longueur(x,y,ordre)\n",
    "    d0 = d+1\n",
    "    it = 1\n",
    "    while d < d0 or it < miniter :\n",
    "        it += 1\n",
    "        d0 = d\n",
    "        for i in range(1,len(ordre)-1) :\n",
    "            for j in range(i+2,len(ordre)+ 1):\n",
    "                k = random.randint(1,len(ordre)-1)\n",
    "                l = random.randint(k+1,len(ordre))\n",
    "                r = ordre[k:l].copy()\n",
    "                r.reverse()\n",
    "                ordre2 = ordre[:k] + r + ordre[l:]\n",
    "                t = longueur(x,y,ordre2)\n",
    "                if t < d :\n",
    "                    d = t\n",
    "                    ordre = ordre2\n",
    "    return ordre\n",
    "\n",
    "def n_permutation(x,y, miniter):\n",
    "    ordre = list(range(len(x)))\n",
    "    bordre = ordre.copy()\n",
    "    d0 = longueur(x,y,ordre)\n",
    "    for i in range(0,20):\n",
    "        print(\"iteration\",i, \"d=\",d0)\n",
    "        random.shuffle(ordre)\n",
    "        ordre = permutation_rnd (x,y,ordre, 20)\n",
    "        d = longueur(x,y,ordre)\n",
    "        if d < d0 :\n",
    "            d0 = d\n",
    "            bordre = ordre.copy()\n",
    "    return bordre\n",
    "\n",
    "ordre = n_permutation (x,y, 20)\n",
    "print(\"longueur min\", longueur(x,y,ordre))\n",
    "xo = [ x[o] for o in ordre + [ordre[0]]]\n",
    "yo = [ y[o] for o in ordre + [ordre[0]]]\n",
    "plt.plot(xo,yo, \"o-\")\n",
    "plt.text(xo[0],yo[0],\"0\",color=\"r\",weight=\"bold\",size=\"x-large\")\n",
    "plt.text(xo[-2],yo[-2],\"N-1\",color=\"r\",weight=\"bold\",size=\"x-large\")"
   ]
  }
 ],
 "metadata": {
  "kernelspec": {
   "display_name": "Python 3",
   "language": "python",
   "name": "python3"
  },
  "language_info": {
   "codemirror_mode": {
    "name": "ipython",
    "version": 3
   },
   "file_extension": ".py",
   "mimetype": "text/x-python",
   "name": "python",
   "nbconvert_exporter": "python",
   "pygments_lexer": "ipython3",
   "version": "3.7.6"
  }
 },
 "nbformat": 4,
 "nbformat_minor": 4
}
